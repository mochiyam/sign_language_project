{
 "cells": [
  {
   "cell_type": "code",
   "execution_count": 6,
   "metadata": {},
   "outputs": [],
   "source": [
    "import cv2\n",
    "import numpy as np\n",
    "import matplotlib.pyplot as plt\n",
    "from PIL import Image\n",
    "\n",
    "%matplotlib inline"
   ]
  },
  {
   "cell_type": "code",
   "execution_count": 11,
   "metadata": {},
   "outputs": [
    {
     "name": "stdout",
     "output_type": "stream",
     "text": [
      "(27455, 28, 28) (27455,)\n",
      "(7172, 28, 28) (7172,)\n"
     ]
    }
   ],
   "source": [
    "# Get the data from the csv file.\n",
    "def getData(filename):\n",
    "    with open(filename) as file:\n",
    "        rows = file.readlines()\n",
    "        labels = []\n",
    "        images = []\n",
    "        for row in rows[1:]:\n",
    "            label = np.array(row[0]).astype(float)\n",
    "            labels.append(label)\n",
    "            image = row.split(',')\n",
    "            image = np.array(image).astype(float)\n",
    "            image = np.array_split(image[1:], 28)\n",
    "            images.append(image)\n",
    "        labels = np.array(labels)\n",
    "        images = np.array(images)\n",
    "    return images, labels\n",
    "\n",
    "train_path = 'sign_language/sign_mnist_train/sign_mnist_train.csv'\n",
    "test_path = 'sign_language/sign_mnist_test/sign_mnist_test.csv'\n",
    "train_images, train_labels = getData(train_path)\n",
    "test_images, test_labels = getData(test_path)\n",
    "\n",
    "#print(train_images.shape, train_labels.shape)\n",
    "#print(test_images.shape, test_labels.shape)"
   ]
  },
  {
   "cell_type": "code",
   "execution_count": 32,
   "metadata": {},
   "outputs": [
    {
     "data": {
      "text/plain": [
       "array([[107, 118, 127, 134, 139, 143, 146, 150, 153, 156, 158, 160, 163,\n",
       "        165, 159, 166, 168, 170, 170, 171, 171, 171, 172, 171, 171, 170,\n",
       "        170, 169],\n",
       "       [111, 121, 129, 135, 141, 144, 148, 151, 154, 157, 160, 163, 164,\n",
       "        170, 119, 152, 171, 171, 170, 171, 172, 172, 172, 172, 172, 171,\n",
       "        171, 170],\n",
       "       [113, 123, 131, 137, 142, 145, 150, 152, 155, 158, 161, 163, 164,\n",
       "        172, 105, 142, 170, 171, 171, 171, 172, 172, 173, 173, 172, 171,\n",
       "        171, 171],\n",
       "       [116, 125, 133, 139, 143, 146, 151, 153, 156, 159, 162, 163, 167,\n",
       "        167,  95, 144, 171, 172, 172, 172, 172, 172, 173, 173, 173, 172,\n",
       "        172, 171],\n",
       "       [117, 126, 134, 140, 145, 149, 153, 156, 158, 161, 163, 164, 175,\n",
       "        156,  87, 154, 172, 173, 173, 173, 173, 173, 174, 174, 174, 173,\n",
       "        172, 172],\n",
       "       [119, 128, 136, 142, 146, 150, 153, 156, 159, 163, 165, 164, 184,\n",
       "        148,  89, 164, 172, 174, 174, 174, 174, 175, 175, 174, 175, 174,\n",
       "        173, 173],\n",
       "       [122, 130, 138, 143, 147, 150, 154, 158, 162, 165, 166, 172, 181,\n",
       "        128,  94, 170, 173, 175, 174, 175, 176, 177, 177, 177, 177, 175,\n",
       "        175, 174],\n",
       "       [122, 132, 139, 145, 149, 152, 156, 160, 163, 165, 166, 181, 172,\n",
       "        103, 113, 175, 176, 178, 178, 179, 179, 179, 179, 178, 179, 177,\n",
       "        175, 174],\n",
       "       [125, 134, 141, 147, 150, 153, 157, 161, 164, 167, 168, 184, 179,\n",
       "        116, 126, 165, 176, 179, 180, 180, 181, 180, 180, 180, 179, 178,\n",
       "        177, 176],\n",
       "       [128, 135, 142, 148, 152, 154, 158, 162, 165, 168, 170, 187, 180,\n",
       "        156, 161, 124, 143, 179, 178, 178, 181, 182, 181, 180, 181, 180,\n",
       "        179, 179],\n",
       "       [129, 136, 144, 150, 153, 155, 159, 163, 166, 169, 172, 187, 184,\n",
       "        153, 102, 117, 110, 175, 169, 154, 182, 183, 183, 182, 182, 181,\n",
       "        181, 179],\n",
       "       [131, 138, 145, 150, 155, 157, 161, 165, 168, 174, 190, 189, 175,\n",
       "        146,  94,  97, 113, 151, 158, 129, 184, 184, 184, 184, 183, 183,\n",
       "        182, 180],\n",
       "       [131, 139, 146, 151, 155, 159, 163, 167, 175, 182, 179, 171, 159,\n",
       "        114, 102,  89, 121, 136, 136,  96, 172, 186, 186, 185, 185, 184,\n",
       "        182, 181],\n",
       "       [131, 140, 147, 154, 157, 160, 164, 179, 186, 191, 187, 180, 157,\n",
       "        100,  88,  84, 108, 111, 126,  90, 120, 186, 187, 187, 186, 185,\n",
       "        184, 182],\n",
       "       [133, 141, 149, 155, 158, 160, 174, 201, 189, 165, 151, 143, 146,\n",
       "        120,  87,  78,  87,  76, 108,  98,  96, 181, 188, 187, 186, 186,\n",
       "        185, 183],\n",
       "       [133, 141, 150, 156, 160, 161, 179, 197, 174, 135,  99,  72,  95,\n",
       "        134,  97,  72,  74,  68, 116, 105, 108, 187, 189, 187, 187, 186,\n",
       "        186, 185],\n",
       "       [134, 143, 151, 156, 161, 163, 179, 194, 156, 110,  74,  42,  52,\n",
       "        139,  94,  67,  75,  75, 118, 106, 129, 189, 191, 190, 188, 188,\n",
       "        187, 186],\n",
       "       [135, 144, 152, 158, 163, 163, 177, 193, 161, 122,  84,  43,  71,\n",
       "        134,  81,  57,  71,  88, 112,  98, 157, 193, 193, 192, 190, 190,\n",
       "        189, 188],\n",
       "       [136, 144, 152, 158, 162, 163, 176, 192, 164, 128,  98,  62,  60,\n",
       "        100,  71,  76,  96, 101, 105,  95, 174, 195, 194, 194, 194, 193,\n",
       "        191, 190],\n",
       "       [137, 145, 152, 159, 164, 165, 178, 191, 164, 135, 113,  82,  59,\n",
       "         87,  98, 111, 120, 108,  97, 108, 190, 196, 195, 195, 194, 193,\n",
       "        193, 192],\n",
       "       [139, 146, 154, 160, 164, 165, 175, 186, 163, 139, 112,  85,  67,\n",
       "        102, 126, 133, 126, 105, 104, 176, 197, 198, 197, 196, 195, 195,\n",
       "        194, 193],\n",
       "       [138, 147, 155, 161, 165, 167, 172, 186, 163, 137, 107,  87,  76,\n",
       "        106, 122, 125, 117,  96, 156, 199, 199, 200, 198, 196, 196, 195,\n",
       "        195, 194],\n",
       "       [139, 148, 156, 163, 166, 168, 172, 180, 158, 131, 108,  99,  86,\n",
       "        108, 118, 116, 103, 107, 191, 202, 201, 200, 200, 200, 199, 197,\n",
       "        198, 196],\n",
       "       [140, 149, 157, 164, 168, 167, 177, 178, 155, 131, 118, 105,  87,\n",
       "        100, 106, 100,  96, 164, 202, 202, 202, 202, 202, 201, 200, 199,\n",
       "        199, 198],\n",
       "       [140, 150, 157, 165, 167, 170, 181, 175, 152, 130, 115,  98,  82,\n",
       "         85,  90,  99, 165, 202, 203, 204, 203, 203, 202, 202, 201, 201,\n",
       "        200, 200],\n",
       "       [142, 150, 159, 165, 170, 191, 173, 157, 144, 119,  97,  84,  79,\n",
       "         79,  91, 172, 202, 203, 203, 205, 204, 204, 204, 203, 202, 202,\n",
       "        201, 200],\n",
       "       [142, 151, 160, 165, 188, 190, 187, 150, 119, 109,  85,  79,  79,\n",
       "         78, 137, 203, 205, 206, 206, 207, 207, 206, 206, 204, 205, 204,\n",
       "        203, 202],\n",
       "       [142, 151, 160, 172, 196, 188, 188, 190, 135,  96,  86,  77,  77,\n",
       "         79, 176, 205, 207, 207, 207, 207, 207, 207, 206, 206, 206, 204,\n",
       "        203, 202]], dtype=uint8)"
      ]
     },
     "execution_count": 32,
     "metadata": {},
     "output_type": "execute_result"
    },
    {
     "data": {
      "image/png": "[encoded data removed]",
      "text/plain": [
       "<Figure size 432x288 with 1 Axes>"
      ]
     },
     "metadata": {
      "needs_background": "light"
     },
     "output_type": "display_data"
    }
   ],
   "source": [
    "# Just want to see what the pixel looks like.\n",
    "def seeImage(img_pixels, label):\n",
    "    counter = dict()\n",
    "\n",
    "    img_pixels = np.array(img_pixels, dtype='uint8')\n",
    "    image = Image.fromarray(img_pixels)\n",
    "\n",
    "    filename = '{}{}.png'.format(label, \"_test\")\n",
    "    image.save(filename)\n",
    "    img = cv2.imread(filename, 0)\n",
    "    plt.imshow(img, cmap='gray')\n",
    "    \n",
    "    return img\n",
    "\n",
    "#seeImage(train_images[0], train_labels[0])"
   ]
  },
  {
   "cell_type": "code",
   "execution_count": null,
   "metadata": {},
   "outputs": [],
   "source": []
  }
 ],
 "metadata": {
  "kernelspec": {
   "display_name": "Python 3",
   "language": "python",
   "name": "python3"
  },
  "language_info": {
   "codemirror_mode": {
    "name": "ipython",
    "version": 3
   },
   "file_extension": ".py",
   "mimetype": "text/x-python",
   "name": "python",
   "nbconvert_exporter": "python",
   "pygments_lexer": "ipython3",
   "version": "3.6.6"
  }
 },
 "nbformat": 4,
 "nbformat_minor": 2
}
